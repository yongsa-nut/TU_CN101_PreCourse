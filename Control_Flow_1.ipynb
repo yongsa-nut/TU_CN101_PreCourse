{
  "nbformat": 4,
  "nbformat_minor": 0,
  "metadata": {
    "colab": {
      "provenance": [],
      "authorship_tag": "ABX9TyPQMhwmRiXu/gLjqZqTCOcx",
      "include_colab_link": true
    },
    "kernelspec": {
      "name": "python3",
      "display_name": "Python 3"
    },
    "language_info": {
      "name": "python"
    }
  },
  "cells": [
    {
      "cell_type": "markdown",
      "metadata": {
        "id": "view-in-github",
        "colab_type": "text"
      },
      "source": [
        "<a href=\"https://colab.research.google.com/github/yongsa-nut/TU_CN101_PreCourse/blob/main/Control_Flow_1.ipynb\" target=\"_parent\"><img src=\"https://colab.research.google.com/assets/colab-badge.svg\" alt=\"Open In Colab\"/></a>"
      ]
    },
    {
      "cell_type": "markdown",
      "source": [
        "Q1: What will the following code print out?\n",
        "\n",
        "```\n",
        "x = 10\n",
        "if x > 20:\n",
        "  print(\"A\")\n",
        "if x == 10:\n",
        "  print(\"B\")\n",
        "if x <= 10:\n",
        "  print(\"C\")\n",
        "```"
      ],
      "metadata": {
        "id": "kF_tkxQcVKJ2"
      }
    },
    {
      "cell_type": "code",
      "execution_count": null,
      "metadata": {
        "id": "i1iwYgZ8VA5V"
      },
      "outputs": [],
      "source": []
    },
    {
      "cell_type": "markdown",
      "source": [
        "Q2: Fill in the code below so that the program will output 'Second'."
      ],
      "metadata": {
        "id": "PjKGqkc3VZNJ"
      }
    },
    {
      "cell_type": "code",
      "source": [
        "num =      # fill in the value here\n",
        "if num < 10 or num > 15:\n",
        "  print('First')\n",
        "else:\n",
        "  if num % 2 == 0 and num <= 13:\n",
        "    print('Second')\n",
        "  else:\n",
        "    print('Third')"
      ],
      "metadata": {
        "id": "5C7f40iuViKQ"
      },
      "execution_count": null,
      "outputs": []
    },
    {
      "cell_type": "markdown",
      "source": [
        "Q3: Even or Odd?\n",
        "\n",
        "Write a program that receives an input from the user.\n",
        "\n",
        "Print out 'Even' if the input is an even number and print out 'Odd' if the input is an odd number.\n",
        "\n",
        "Example 1:\n",
        "```\n",
        "Enter your number: 31\n",
        "Odd\n",
        "```\n",
        "Example 2:\n",
        "```\n",
        "Enter your number: 24\n",
        "Even\n",
        "```"
      ],
      "metadata": {
        "id": "7TeUaOslVuPx"
      }
    },
    {
      "cell_type": "code",
      "source": [],
      "metadata": {
        "id": "AiW1rmn0WIYV"
      },
      "execution_count": null,
      "outputs": []
    },
    {
      "cell_type": "markdown",
      "source": [
        "Q4: Cashier Program ver 2.\n",
        "\n",
        "Write a program that takes in the number of products that a customer buys. <br> There are three products: donut, cupcake, and popcorn. <br> The price of donut is 10 baht each; the price of cupcake is 20 baht each; and the price of popcorn is 40 baht each. <br> Calculate the total payment and apply the discount as listed below.\n",
        "\n",
        "* The customers receive 20% off donuts when they buy 20 or more donuts.\n",
        "* The customers receive 10% off cupcakes when they buy 10 or more cupcakes.\n",
        "\n",
        "**Input:**\n",
        "- The number of donut, cupcake, and popcorn.\n",
        "\n",
        "**Output:**\n",
        "- The original payment in two decimal.\n",
        "- The discounted payment.\n",
        "\n",
        "Example\n",
        "```\n",
        "Enter the number of donut: 30\n",
        "Enter the number of cupcake: 20\n",
        "Enter the number of popcorn:  5\n",
        "The total payment befor discount is 900.00 baht.\n",
        "The payment after discount is 800.00 baht.\n",
        "```\n",
        "\n",
        "```\n",
        "Enter the number of donut: 5\n",
        "Enter the number of cupcake: 20\n",
        "Enter the number of popcorn:  3\n",
        "The total payment befor discount is 570.00 baht.\n",
        "The payment after discount is 530.00 baht.\n",
        "```\n",
        "\n",
        "```\n",
        "Enter the number of donut: 10\n",
        "Enter the number of cupcake: 10\n",
        "Enter the number of popcorn:  5\n",
        "The total payment befor discount is 500.00 baht.\n",
        "The payment after discount is 480.00 baht.\n",
        "```"
      ],
      "metadata": {
        "id": "SV1CamZhWIoh"
      }
    },
    {
      "cell_type": "code",
      "source": [],
      "metadata": {
        "id": "8uTb_s2RWf-3"
      },
      "execution_count": null,
      "outputs": []
    },
    {
      "cell_type": "markdown",
      "source": [
        "Q5: What will the following program print out?\n",
        "\n",
        "```\n",
        "total = 0\n",
        "count = 5\n",
        "while count > 0:\n",
        "  total = total + count\n",
        "  count = count - 1\n",
        "print(total)\n",
        "```"
      ],
      "metadata": {
        "id": "MKhyCGCdWgYb"
      }
    },
    {
      "cell_type": "code",
      "source": [],
      "metadata": {
        "id": "H66Oi2gRWlqp"
      },
      "execution_count": null,
      "outputs": []
    },
    {
      "cell_type": "markdown",
      "source": [
        "Q6: Nim game\n",
        "\n",
        "Write a program to create a Nim game. In this game, there are two players. Each player takes turn to count the number down by 1 or 2. Who count to zero first lose. The starting amount is 10.\n",
        "\n",
        "Example\n",
        "```\n",
        "First player turn: 1\n",
        "Remaining = 9\n",
        "Second player turn: 2\n",
        "Remaining = 7\n",
        "First player turn: 1\n",
        "Remaining = 6\n",
        "Second player turn: 2\n",
        "Remaining = 4\n",
        "First player turn: 1\n",
        "Remaining = 3\n",
        "Second player turn: 2\n",
        "Remaining = 1\n",
        "First player turn: 1\n",
        "Second player wins.\n",
        "```"
      ],
      "metadata": {
        "id": "NgUaq75cWmAN"
      }
    },
    {
      "cell_type": "code",
      "source": [
        "remaining = 10\n",
        "turn = 'First'\n",
        "\n",
        "while _________ : # fill in your code here\n",
        "  if turn == 'First':\n",
        "    num = _____________  # get input from the first player\n",
        "  else:\n",
        "    num = _____________  # get input from the second player\n",
        "\n",
        "  remaining = remaining - num\n",
        "  print(f\"Remaining = {remaining}\")\n",
        "\n",
        "  # Update the turn\n",
        "  if turn == 'First':\n",
        "    turn = ____________\n",
        "  else:\n",
        "    turn = ____________\n",
        "\n",
        "#Fill in the code below to determine the winner\n",
        "if turn == 'First':\n",
        "  __________________________\n",
        "else:\n",
        "  __________________________\n"
      ],
      "metadata": {
        "id": "aKYjxVRaWoT_"
      },
      "execution_count": null,
      "outputs": []
    }
  ]
}