{
  "nbformat": 4,
  "nbformat_minor": 0,
  "metadata": {
    "colab": {
      "provenance": [],
      "authorship_tag": "ABX9TyMEpw0Y0XjcEVZ9nKaZ+3Wm",
      "include_colab_link": true
    },
    "kernelspec": {
      "name": "python3",
      "display_name": "Python 3"
    },
    "language_info": {
      "name": "python"
    }
  },
  "cells": [
    {
      "cell_type": "markdown",
      "metadata": {
        "id": "view-in-github",
        "colab_type": "text"
      },
      "source": [
        "<a href=\"https://colab.research.google.com/github/yongsa-nut/TU_CN101_PreCourse/blob/main/Tic_Tac_Toe.ipynb\" target=\"_parent\"><img src=\"https://colab.research.google.com/assets/colab-badge.svg\" alt=\"Open In Colab\"/></a>"
      ]
    },
    {
      "cell_type": "code",
      "execution_count": null,
      "metadata": {
        "id": "nPzP7sPMga4R"
      },
      "outputs": [],
      "source": [
        "# Fill in your code here. See the Slide for explanation\n",
        "\n",
        "# Milestone#1: Initialization\n",
        "\n",
        "\n",
        "\n",
        "\n",
        "# Milestone#2: Game loop\n",
        "\n",
        "\n",
        "\n",
        "\n",
        "  # Milestone#3: Check game's status (inside the game loop)\n",
        "\n",
        "\n",
        "\n",
        "# Once you get out of the game loop, print out the winner here\n"
      ]
    }
  ]
}