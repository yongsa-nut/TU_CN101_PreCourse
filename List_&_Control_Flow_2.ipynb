{
  "nbformat": 4,
  "nbformat_minor": 0,
  "metadata": {
    "colab": {
      "provenance": [],
      "authorship_tag": "ABX9TyMTWjE2rrPE9Fov8BvBrKwY",
      "include_colab_link": true
    },
    "kernelspec": {
      "name": "python3",
      "display_name": "Python 3"
    },
    "language_info": {
      "name": "python"
    }
  },
  "cells": [
    {
      "cell_type": "markdown",
      "metadata": {
        "id": "view-in-github",
        "colab_type": "text"
      },
      "source": [
        "<a href=\"https://colab.research.google.com/github/yongsa-nut/TU_CN101_PreCourse/blob/main/List_%26_Control_Flow_2.ipynb\" target=\"_parent\"><img src=\"https://colab.research.google.com/assets/colab-badge.svg\" alt=\"Open In Colab\"/></a>"
      ]
    },
    {
      "cell_type": "markdown",
      "source": [
        "Q1: What will the following program print out?\n",
        "\n",
        "```\n",
        "total = 0\n",
        "for i in range(10):\n",
        "  total += 3\n",
        "print(total)\n",
        "```"
      ],
      "metadata": {
        "id": "ODKYgrQEa-TU"
      }
    },
    {
      "cell_type": "code",
      "source": [],
      "metadata": {
        "id": "IH6QNFtFa92g"
      },
      "execution_count": null,
      "outputs": []
    },
    {
      "cell_type": "markdown",
      "source": [
        "Q2: Fill in the following program so that the program prints out [2, 4, 6, 8]."
      ],
      "metadata": {
        "id": "GTxbrE2Ubevf"
      }
    },
    {
      "cell_type": "code",
      "execution_count": null,
      "metadata": {
        "id": "Rmv4Pj5IaxBN"
      },
      "outputs": [],
      "source": [
        "my_list = [1, 2, 3, 4]\n",
        "for i in range(len(my_list)):\n",
        "  my_list[i] = ___________   # Fill in your code here\n",
        "print(my_list)"
      ]
    },
    {
      "cell_type": "markdown",
      "source": [
        "Q3: Fill in the following program to count the number of numbers that divisible by 3 in the list below. The program should print out 4."
      ],
      "metadata": {
        "id": "EjIs6JoabuV_"
      }
    },
    {
      "cell_type": "code",
      "source": [
        "numbers = [1, 10, 21, 30, 40, 51, 60, 77]\n",
        "count = 0\n",
        "for num in numbers:\n",
        "  ___________________   # Fill in your code here\n",
        "  ___________________   # Fill in your code here\n",
        "print(count) # count should be 4"
      ],
      "metadata": {
        "id": "K44Yot2CcW54"
      },
      "execution_count": null,
      "outputs": []
    },
    {
      "cell_type": "markdown",
      "source": [
        "Q4: Calculate Variance\n",
        "\n"
      ],
      "metadata": {
        "id": "bonmEh6KcX_1"
      }
    },
    {
      "cell_type": "code",
      "source": [],
      "metadata": {
        "id": "oAjmUFnac4Wx"
      },
      "execution_count": null,
      "outputs": []
    },
    {
      "cell_type": "markdown",
      "source": [
        "Q5: FizzBuzz\n",
        "\n",
        "Given an integer $n$, return a list $answer$ where:\n",
        "\n",
        "* $\\texttt{answer[i] == \"FizzBuzz\"}$ if $\\texttt{i}$ is divisible by 3 and 5.\n",
        "* $\\texttt{answer[i] == \"Fizz\"}$ if $\\texttt{i}$ is divisible by 3.\n",
        "* $\\texttt{answer[i] == \"Buzz\"}$ if $\\texttt{i}$ is divisible by 5.\n",
        "* $\\texttt{answer[i] == i}$ if none of the above conditions are true.\n",
        "\n",
        "Note:\n",
        "* Special: for people who would like some challenge, try to solve this problem without using $\\texttt{%}$.\n",
        "* This is a famous problem, read more here if you are interested in its history: [The original post](https://blog.codinghorror.com/why-cant-programmers-program/), [some drama](https://www.reddit.com/r/programming/comments/35mq2s/designer_applies_for_js_job_fails_at_fizzbuzz/), and [a more recent post](https://www.reddit.com/r/cscareerquestions/comments/wmfqs5/does_anyone_else_still_get_asked_fizzbuzz/).\n",
        "\n",
        "Example 1:\n",
        "\n",
        "```\n",
        "Enter n: 3\n",
        "[1,2,'Fizz']\n",
        "```\n",
        "\n",
        "Example 2:\n",
        "\n",
        "```\n",
        "Enter n: 5\n",
        "[1,2,'Fizz',4,'Buzz']\n",
        "```\n",
        "\n",
        "Example 3:\n",
        "\n",
        "```\n",
        "Enter n: 15\n",
        "[1,2,'Fizz',4,'Buzz','Fizz',7,8,'Fizz','Buzz',11,'Fizz',13,14,'FizzBuzz']\n",
        "```"
      ],
      "metadata": {
        "id": "_Luxlx-8c4mK"
      }
    },
    {
      "cell_type": "code",
      "source": [],
      "metadata": {
        "id": "vjsi7PkhdHIs"
      },
      "execution_count": null,
      "outputs": []
    }
  ]
}